{
 "cells": [
  {
   "cell_type": "code",
   "execution_count": 8,
   "metadata": {},
   "outputs": [],
   "source": [
    "import numpy as np\n",
    "import pandas as pd\n",
    "from plotnine import *"
   ]
  },
  {
   "cell_type": "code",
   "execution_count": 13,
   "metadata": {},
   "outputs": [
    {
     "data": {
      "text/plain": [
       "(30641, 8)"
      ]
     },
     "execution_count": 13,
     "metadata": {},
     "output_type": "execute_result"
    }
   ],
   "source": [
    "# Cargar dataset \n",
    "df = pd.read_csv('../Data/extendido_1900_2021_DISASTERS.xlsx - emdat data.csv')\n",
    "# df.head()\n",
    "df.shape\n"
   ]
  },
  {
   "cell_type": "code",
   "execution_count": 14,
   "metadata": {},
   "outputs": [
    {
     "data": {
      "text/plain": [
       "(29014, 8)"
      ]
     },
     "execution_count": 14,
     "metadata": {},
     "output_type": "execute_result"
    }
   ],
   "source": [
    "# Eliminar los nan de location\n",
    "df = df.dropna(subset=['Location'])\n",
    "# show the size of the dataset\n",
    "df.shape\n"
   ]
  },
  {
   "cell_type": "code",
   "execution_count": 5,
   "metadata": {},
   "outputs": [],
   "source": [
    "# Separar df en data de entrenamiento y data de test de forma aleatoria\n",
    "df_train = df.sample(frac=0.8, random_state=0)\n",
    "df_test = df.drop(df_train.index)"
   ]
  },
  {
   "cell_type": "code",
   "execution_count": 6,
   "metadata": {},
   "outputs": [
    {
     "ename": "ModuleNotFoundError",
     "evalue": "No module named 'kats'",
     "output_type": "error",
     "traceback": [
      "\u001b[1;31m---------------------------------------------------------------------------\u001b[0m",
      "\u001b[1;31mModuleNotFoundError\u001b[0m                       Traceback (most recent call last)",
      "Cell \u001b[1;32mIn[6], line 2\u001b[0m\n\u001b[0;32m      1\u001b[0m \u001b[39m# Usar Kats para predecir la columna Disaster_Probability_(or_prediction) de la data de test\u001b[39;00m\n\u001b[1;32m----> 2\u001b[0m \u001b[39mfrom\u001b[39;00m \u001b[39mkats\u001b[39;00m\u001b[39m.\u001b[39;00m\u001b[39mconsts\u001b[39;00m \u001b[39mimport\u001b[39;00m TimeSeriesData\n\u001b[0;32m      3\u001b[0m \u001b[39mfrom\u001b[39;00m \u001b[39mkats\u001b[39;00m\u001b[39m.\u001b[39;00m\u001b[39mmodels\u001b[39;00m\u001b[39m.\u001b[39;00m\u001b[39mprophet\u001b[39;00m \u001b[39mimport\u001b[39;00m ProphetModel, ProphetParams\n\u001b[0;32m      4\u001b[0m \u001b[39mfrom\u001b[39;00m \u001b[39mkats\u001b[39;00m\u001b[39m.\u001b[39;00m\u001b[39mmodels\u001b[39;00m\u001b[39m.\u001b[39;00m\u001b[39marima\u001b[39;00m \u001b[39mimport\u001b[39;00m ARIMAModel, ARIMAParams\n",
      "\u001b[1;31mModuleNotFoundError\u001b[0m: No module named 'kats'"
     ]
    }
   ],
   "source": [
    "# Usar Kats para predecir la columna Disaster_Probability_(or_prediction) de la data de test\n",
    "from kats.consts import TimeSeriesData\n",
    "from kats.models.prophet import ProphetModel, ProphetParams\n",
    "from kats.models.arima import ARIMAModel, ARIMAParams\n",
    "from kats.models.holtwinters import HoltWintersParams, HoltWintersModel\n",
    "from kats.models.sarima import SARIMAModel, SARIMAParams\n",
    "from kats.models.theta import ThetaParams, ThetaModel\n",
    "from kats.models.var import VARModel, VARParams\n",
    "from kats.models.lstm import LSTMParams, LSTMModel\n",
    "from kats.models.quadratic_model import QuadraticModel, QuadraticParams\n",
    "\n",
    "# Usar df_test para predecir la columna Disaster_Probability_(or_prediction) de la data de test\n",
    "#\n",
    "serie_de_tiempo = TimeSeriesData(df=df_train, time_col_name=\"Year\", value_col_name=\"Precipitation_(MM)\")\n",
    "params=VARParams()\n",
    "m=VARModel(data=serie_de_tiempo, params=params)\n",
    "m.fit\n",
    "\n",
    "# Iterar sobre las distintas categorias de \"Location\" en df_test\n",
    "for location in df_test['Location'].unique():\n",
    "    # Filtrar df_test por location\n",
    "    df_location = df_test[df_test['Location'] == location]\n",
    "    # Crear un objeto TimeSeriesData con df_location\n",
    "    serie_de_tiempo = TimeSeriesData(df=df_location, time_col_name=\"Year\", value_col_name=\"Precipitation_(MM)\")\n",
    "    # Crear un objeto VARModel con serie_de_tiempo\n",
    "    params=VARParams()\n",
    "    m=VARModel(data=serie_de_tiempo, params=params)\n",
    "    # Entrenar el modelo\n",
    "    m.fit()\n",
    "    # Predecir la columna Disaster_Probability_(or_prediction) de df_location\n",
    "    m.predict(steps=1)\n",
    "    # Agregar la columna \"Disaster_Probability_(or_prediction)\" a df_location\n",
    "    df_location['Disaster_Probability_(or_prediction)'] = m.predict(steps=1).y\n",
    "    # Agregar df_location a df_test\n",
    "    df_test = df_test.append(df_location)\n",
    "\n"
   ]
  }
 ],
 "metadata": {
  "kernelspec": {
   "display_name": "Python 3",
   "language": "python",
   "name": "python3"
  },
  "language_info": {
   "codemirror_mode": {
    "name": "ipython",
    "version": 3
   },
   "file_extension": ".py",
   "mimetype": "text/x-python",
   "name": "python",
   "nbconvert_exporter": "python",
   "pygments_lexer": "ipython3",
   "version": "3.11.1"
  },
  "orig_nbformat": 4
 },
 "nbformat": 4,
 "nbformat_minor": 2
}
