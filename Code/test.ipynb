{
 "cells": [
  {
   "cell_type": "code",
   "execution_count": 43,
   "metadata": {},
   "outputs": [],
   "source": [
    "import pandas as pd\n",
    "import requests\n"
   ]
  },
  {
   "cell_type": "code",
   "execution_count": 44,
   "metadata": {},
   "outputs": [],
   "source": [
    "# read data\n",
    "df = pd.read_csv('C:/Users/seba/OneDrive - Universidad Adolfo Ibanez/UAI1/2023-S1/globant/los-outliers/Data/1900_2021_DISASTERS.xlsx - emdat data.csv')"
   ]
  },
  {
   "cell_type": "code",
   "execution_count": 45,
   "metadata": {},
   "outputs": [],
   "source": [
    "# drop rows with missing values in Location variable\n",
    "df = df.dropna(subset=['Location'])"
   ]
  },
  {
   "cell_type": "code",
   "execution_count": 46,
   "metadata": {},
   "outputs": [],
   "source": [
    "# just keep rows where Location contains \"Texas\" or \"texas\"\n",
    "df2 = df[df['Location'].str.contains(\"Texas|texas\")]"
   ]
  },
  {
   "cell_type": "code",
   "execution_count": 47,
   "metadata": {},
   "outputs": [
    {
     "data": {
      "text/html": [
       "<div>\n",
       "<style scoped>\n",
       "    .dataframe tbody tr th:only-of-type {\n",
       "        vertical-align: middle;\n",
       "    }\n",
       "\n",
       "    .dataframe tbody tr th {\n",
       "        vertical-align: top;\n",
       "    }\n",
       "\n",
       "    .dataframe thead th {\n",
       "        text-align: right;\n",
       "    }\n",
       "</style>\n",
       "<table border=\"1\" class=\"dataframe\">\n",
       "  <thead>\n",
       "    <tr style=\"text-align: right;\">\n",
       "      <th></th>\n",
       "      <th>Year</th>\n",
       "      <th>Disaster Type</th>\n",
       "      <th>Location</th>\n",
       "      <th>Start Month</th>\n",
       "    </tr>\n",
       "  </thead>\n",
       "  <tbody>\n",
       "    <tr>\n",
       "      <th>845</th>\n",
       "      <td>1900</td>\n",
       "      <td>Storm</td>\n",
       "      <td>Galveston (Texas)</td>\n",
       "      <td>9.0</td>\n",
       "    </tr>\n",
       "    <tr>\n",
       "      <th>876</th>\n",
       "      <td>1909</td>\n",
       "      <td>Storm</td>\n",
       "      <td>Velasco (Texas)</td>\n",
       "      <td>NaN</td>\n",
       "    </tr>\n",
       "    <tr>\n",
       "      <th>893</th>\n",
       "      <td>1913</td>\n",
       "      <td>Storm</td>\n",
       "      <td>Ohio, Indiana, Texas</td>\n",
       "      <td>3.0</td>\n",
       "    </tr>\n",
       "    <tr>\n",
       "      <th>899</th>\n",
       "      <td>1915</td>\n",
       "      <td>Storm</td>\n",
       "      <td>Cavelston (Texas), New Orleans (Louisiana)</td>\n",
       "      <td>8.0</td>\n",
       "    </tr>\n",
       "    <tr>\n",
       "      <th>908</th>\n",
       "      <td>1919</td>\n",
       "      <td>Storm</td>\n",
       "      <td>Florida Keys, South Texas</td>\n",
       "      <td>9.0</td>\n",
       "    </tr>\n",
       "    <tr>\n",
       "      <th>...</th>\n",
       "      <td>...</td>\n",
       "      <td>...</td>\n",
       "      <td>...</td>\n",
       "      <td>...</td>\n",
       "    </tr>\n",
       "    <tr>\n",
       "      <th>16075</th>\n",
       "      <td>2021</td>\n",
       "      <td>Storm</td>\n",
       "      <td>Alabama, Louisiana, Mississippi, Tennessee, Ge...</td>\n",
       "      <td>5.0</td>\n",
       "    </tr>\n",
       "    <tr>\n",
       "      <th>16076</th>\n",
       "      <td>2021</td>\n",
       "      <td>Storm</td>\n",
       "      <td>Texas, Oklahoma</td>\n",
       "      <td>4.0</td>\n",
       "    </tr>\n",
       "    <tr>\n",
       "      <th>16087</th>\n",
       "      <td>2021</td>\n",
       "      <td>Storm</td>\n",
       "      <td>North Carolina, Oklahoma, Arkansas, Missouri, ...</td>\n",
       "      <td>2.0</td>\n",
       "    </tr>\n",
       "    <tr>\n",
       "      <th>16099</th>\n",
       "      <td>2021</td>\n",
       "      <td>Flood</td>\n",
       "      <td>El Paso (Texas); Gila Bend (Arizona)</td>\n",
       "      <td>8.0</td>\n",
       "    </tr>\n",
       "    <tr>\n",
       "      <th>16102</th>\n",
       "      <td>2021</td>\n",
       "      <td>Flood</td>\n",
       "      <td>Bolivar, Sunflower, Panola, and Tallahatchie C...</td>\n",
       "      <td>6.0</td>\n",
       "    </tr>\n",
       "  </tbody>\n",
       "</table>\n",
       "<p>256 rows × 4 columns</p>\n",
       "</div>"
      ],
      "text/plain": [
       "       Year Disaster Type                                           Location  \\\n",
       "845    1900         Storm                                  Galveston (Texas)   \n",
       "876    1909         Storm                                    Velasco (Texas)   \n",
       "893    1913         Storm                               Ohio, Indiana, Texas   \n",
       "899    1915         Storm         Cavelston (Texas), New Orleans (Louisiana)   \n",
       "908    1919         Storm                          Florida Keys, South Texas   \n",
       "...     ...           ...                                                ...   \n",
       "16075  2021         Storm  Alabama, Louisiana, Mississippi, Tennessee, Ge...   \n",
       "16076  2021         Storm                                    Texas, Oklahoma   \n",
       "16087  2021         Storm  North Carolina, Oklahoma, Arkansas, Missouri, ...   \n",
       "16099  2021         Flood               El Paso (Texas); Gila Bend (Arizona)   \n",
       "16102  2021         Flood  Bolivar, Sunflower, Panola, and Tallahatchie C...   \n",
       "\n",
       "       Start Month  \n",
       "845            9.0  \n",
       "876            NaN  \n",
       "893            3.0  \n",
       "899            8.0  \n",
       "908            9.0  \n",
       "...            ...  \n",
       "16075          5.0  \n",
       "16076          4.0  \n",
       "16087          2.0  \n",
       "16099          8.0  \n",
       "16102          6.0  \n",
       "\n",
       "[256 rows x 4 columns]"
      ]
     },
     "execution_count": 47,
     "metadata": {},
     "output_type": "execute_result"
    }
   ],
   "source": [
    "# just keep variables Year, Disaster Type, Location, Start Month, Start day, End Month, End Day\n",
    "df2 = df2[['Year', 'Disaster Type', 'Location', 'Start Month']]\n",
    "df2"
   ]
  },
  {
   "cell_type": "code",
   "execution_count": 48,
   "metadata": {},
   "outputs": [
    {
     "name": "stdout",
     "output_type": "stream",
     "text": [
      "Year             0\n",
      "Disaster Type    0\n",
      "Location         0\n",
      "Start Month      3\n",
      "dtype: int64\n"
     ]
    }
   ],
   "source": [
    "# count nans in start month, Start Day, End Month, End Day separately\n",
    "print(df2.isnull().sum())\n",
    "\n",
    "# drop rows with missing values in Start Month, Start Day, End Month, End Day\n",
    "df2 = df2.dropna(subset=['Start Month'])"
   ]
  },
  {
   "cell_type": "code",
   "execution_count": 49,
   "metadata": {},
   "outputs": [
    {
     "data": {
      "text/plain": [
       "(253, 4)"
      ]
     },
     "execution_count": 49,
     "metadata": {},
     "output_type": "execute_result"
    }
   ],
   "source": [
    "# shape df\n",
    "df2.shape"
   ]
  },
  {
   "cell_type": "code",
   "execution_count": 50,
   "metadata": {},
   "outputs": [
    {
     "data": {
      "text/html": [
       "<div>\n",
       "<style scoped>\n",
       "    .dataframe tbody tr th:only-of-type {\n",
       "        vertical-align: middle;\n",
       "    }\n",
       "\n",
       "    .dataframe tbody tr th {\n",
       "        vertical-align: top;\n",
       "    }\n",
       "\n",
       "    .dataframe thead th {\n",
       "        text-align: right;\n",
       "    }\n",
       "</style>\n",
       "<table border=\"1\" class=\"dataframe\">\n",
       "  <thead>\n",
       "    <tr style=\"text-align: right;\">\n",
       "      <th></th>\n",
       "      <th>Year</th>\n",
       "      <th>Disaster Type</th>\n",
       "      <th>Location</th>\n",
       "      <th>Start Month</th>\n",
       "    </tr>\n",
       "  </thead>\n",
       "  <tbody>\n",
       "    <tr>\n",
       "      <th>845</th>\n",
       "      <td>1900</td>\n",
       "      <td>Storm</td>\n",
       "      <td>Galveston (Texas)</td>\n",
       "      <td>9.0</td>\n",
       "    </tr>\n",
       "    <tr>\n",
       "      <th>893</th>\n",
       "      <td>1913</td>\n",
       "      <td>Storm</td>\n",
       "      <td>Ohio, Indiana, Texas</td>\n",
       "      <td>3.0</td>\n",
       "    </tr>\n",
       "    <tr>\n",
       "      <th>899</th>\n",
       "      <td>1915</td>\n",
       "      <td>Storm</td>\n",
       "      <td>Cavelston (Texas), New Orleans (Louisiana)</td>\n",
       "      <td>8.0</td>\n",
       "    </tr>\n",
       "    <tr>\n",
       "      <th>908</th>\n",
       "      <td>1919</td>\n",
       "      <td>Storm</td>\n",
       "      <td>Florida Keys, South Texas</td>\n",
       "      <td>9.0</td>\n",
       "    </tr>\n",
       "    <tr>\n",
       "      <th>960</th>\n",
       "      <td>1932</td>\n",
       "      <td>Storm</td>\n",
       "      <td>Texas, Alabama, South Carolina</td>\n",
       "      <td>3.0</td>\n",
       "    </tr>\n",
       "    <tr>\n",
       "      <th>...</th>\n",
       "      <td>...</td>\n",
       "      <td>...</td>\n",
       "      <td>...</td>\n",
       "      <td>...</td>\n",
       "    </tr>\n",
       "    <tr>\n",
       "      <th>16075</th>\n",
       "      <td>2021</td>\n",
       "      <td>Storm</td>\n",
       "      <td>Alabama, Louisiana, Mississippi, Tennessee, Ge...</td>\n",
       "      <td>5.0</td>\n",
       "    </tr>\n",
       "    <tr>\n",
       "      <th>16076</th>\n",
       "      <td>2021</td>\n",
       "      <td>Storm</td>\n",
       "      <td>Texas, Oklahoma</td>\n",
       "      <td>4.0</td>\n",
       "    </tr>\n",
       "    <tr>\n",
       "      <th>16087</th>\n",
       "      <td>2021</td>\n",
       "      <td>Storm</td>\n",
       "      <td>North Carolina, Oklahoma, Arkansas, Missouri, ...</td>\n",
       "      <td>2.0</td>\n",
       "    </tr>\n",
       "    <tr>\n",
       "      <th>16099</th>\n",
       "      <td>2021</td>\n",
       "      <td>Flood</td>\n",
       "      <td>El Paso (Texas); Gila Bend (Arizona)</td>\n",
       "      <td>8.0</td>\n",
       "    </tr>\n",
       "    <tr>\n",
       "      <th>16102</th>\n",
       "      <td>2021</td>\n",
       "      <td>Flood</td>\n",
       "      <td>Bolivar, Sunflower, Panola, and Tallahatchie C...</td>\n",
       "      <td>6.0</td>\n",
       "    </tr>\n",
       "  </tbody>\n",
       "</table>\n",
       "<p>253 rows × 4 columns</p>\n",
       "</div>"
      ],
      "text/plain": [
       "       Year Disaster Type                                           Location  \\\n",
       "845    1900         Storm                                  Galveston (Texas)   \n",
       "893    1913         Storm                               Ohio, Indiana, Texas   \n",
       "899    1915         Storm         Cavelston (Texas), New Orleans (Louisiana)   \n",
       "908    1919         Storm                          Florida Keys, South Texas   \n",
       "960    1932         Storm                     Texas, Alabama, South Carolina   \n",
       "...     ...           ...                                                ...   \n",
       "16075  2021         Storm  Alabama, Louisiana, Mississippi, Tennessee, Ge...   \n",
       "16076  2021         Storm                                    Texas, Oklahoma   \n",
       "16087  2021         Storm  North Carolina, Oklahoma, Arkansas, Missouri, ...   \n",
       "16099  2021         Flood               El Paso (Texas); Gila Bend (Arizona)   \n",
       "16102  2021         Flood  Bolivar, Sunflower, Panola, and Tallahatchie C...   \n",
       "\n",
       "       Start Month  \n",
       "845            9.0  \n",
       "893            3.0  \n",
       "899            8.0  \n",
       "908            9.0  \n",
       "960            3.0  \n",
       "...            ...  \n",
       "16075          5.0  \n",
       "16076          4.0  \n",
       "16087          2.0  \n",
       "16099          8.0  \n",
       "16102          6.0  \n",
       "\n",
       "[253 rows x 4 columns]"
      ]
     },
     "execution_count": 50,
     "metadata": {},
     "output_type": "execute_result"
    }
   ],
   "source": [
    "df2"
   ]
  },
  {
   "cell_type": "code",
   "execution_count": 52,
   "metadata": {},
   "outputs": [
    {
     "data": {
      "text/plain": [
       "456"
      ]
     },
     "execution_count": 52,
     "metadata": {},
     "output_type": "execute_result"
    }
   ],
   "source": [
    "# count rows with \";\"\n",
    "df['Location'].str.contains(\";\").sum()"
   ]
  },
  {
   "cell_type": "code",
   "execution_count": null,
   "metadata": {},
   "outputs": [],
   "source": [
    "latlon = {\"texas\": [31.9686, 99.9018]}"
   ]
  },
  {
   "cell_type": "code",
   "execution_count": null,
   "metadata": {},
   "outputs": [],
   "source": [
    "url = \"https://api.openweathermap.org/data/3.0/onecall/timemachine?lat={lat}&lon={lon}&dt={ts}&appid={apiid}\"\n",
    "\n",
    " # Se hace el request\n",
    "response = requests.get(url.format(lat=lat, lon=lon, ts=ts))\n",
    "dict = response.json() "
   ]
  },
  {
   "attachments": {},
   "cell_type": "markdown",
   "metadata": {},
   "source": []
  }
 ],
 "metadata": {
  "kernelspec": {
   "display_name": "climate-ml",
   "language": "python",
   "name": "python3"
  },
  "language_info": {
   "codemirror_mode": {
    "name": "ipython",
    "version": 3
   },
   "file_extension": ".py",
   "mimetype": "text/x-python",
   "name": "python",
   "nbconvert_exporter": "python",
   "pygments_lexer": "ipython3",
   "version": "3.8.10"
  },
  "orig_nbformat": 4
 },
 "nbformat": 4,
 "nbformat_minor": 2
}
